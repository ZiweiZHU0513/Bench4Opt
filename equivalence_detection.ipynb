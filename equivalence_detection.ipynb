{
 "cells": [
  {
   "cell_type": "code",
   "execution_count": 13,
   "metadata": {},
   "outputs": [],
   "source": [
    "from _utils import wltest_coloring, graph_generator, derive_adjacency,check_symmetric_decomposable\n",
    "import matplotlib.pyplot as plt \n",
    "import networkx as nx \n",
    "import torch\n",
    "import numpy as np\n",
    "import os\n",
    "import json\n"
   ]
  },
  {
   "cell_type": "markdown",
   "metadata": {},
   "source": [
    "## Load Problem Information"
   ]
  },
  {
   "cell_type": "code",
   "execution_count": 14,
   "metadata": {},
   "outputs": [],
   "source": [
    "o_path = 'MILP/Bin Packing Problem/Bin Packing Problem_[Warehouse Storage Optimization]/'\n",
    "name = 'model.lp'\n",
    "path = o_path + name\n"
   ]
  },
  {
   "cell_type": "markdown",
   "metadata": {},
   "source": [
    "The content of lp file ：\n",
    "```\n",
    "Minimize\n",
    "  y[0] + y[1] + y[2]\n",
    "Subject To\n",
    " item_0_placement: x[0,0] + x[0,1] + x[0,2] = 1\n",
    " item_1_placement: x[1,0] + x[1,1] + x[1,2] = 1\n",
    " item_2_placement: x[2,0] + x[2,1] + x[2,2] = 1\n",
    " item_3_placement: x[3,0] + x[3,1] + x[3,2] = 1\n",
    " item_4_placement: x[4,0] + x[4,1] + x[4,2] = 1\n",
    " bin_0_capacity: 8.6600389009 x[0,0] + 9.0341843686 x[1,0]\n",
    "   + 1.7299075019 x[2,0] + 0.1213382457 x[3,0] + 3.9651754001 x[4,0]\n",
    "   - 4.8654483379 y[0] <= 0\n",
    " bin_1_capacity: 8.6600389009 x[0,1] + 9.0341843686 x[1,1]\n",
    "   + 1.7299075019 x[2,1] + 0.1213382457 x[3,1] + 3.9651754001 x[4,1]\n",
    "   - 4.8654483379 y[1] <= 0\n",
    " bin_2_capacity: 8.6600389009 x[0,2] + 9.0341843686 x[1,2]\n",
    "   + 1.7299075019 x[2,2] + 0.1213382457 x[3,2] + 3.9651754001 x[4,2]\n",
    "   - 4.8654483379 y[2] <= 0\n",
    "Bounds\n",
    "Binaries\n",
    " x[0,0] x[0,1] x[0,2] x[1,0] x[1,1] x[1,2] x[2,0] x[2,1] x[2,2] x[3,0]\n",
    " x[3,1] x[3,2] x[4,0] x[4,1] x[4,2] y[0] y[1] y[2]\n",
    "End\n",
    "\n",
    "```"
   ]
  },
  {
   "cell_type": "markdown",
   "metadata": {},
   "source": [
    "There are in total 18 variables and 8 constraints. To avoid ambiguity of bipartite graph representation, we represent the boundary of variables as some constraint nodes. \n",
    "\n",
    "Therefore, there should be in total 18+8+2*18 = 62 constraints."
   ]
  },
  {
   "cell_type": "code",
   "execution_count": 15,
   "metadata": {},
   "outputs": [
    {
     "data": {
      "text/plain": [
       "torch.Size([80, 80])"
      ]
     },
     "execution_count": 15,
     "metadata": {},
     "output_type": "execute_result"
    }
   ],
   "source": [
    "info1 = graph_generator(path)\n",
    "A1 = info1[0] \n",
    "f1 = info1[1]#variable\n",
    "c1 = info1[2]#constraint\n",
    "Adj = derive_adjacency(A1)\n",
    "Adj.shape"
   ]
  },
  {
   "cell_type": "markdown",
   "metadata": {},
   "source": [
    "Now, given another problem with the following lp file\n",
    "\n",
    "name: answer_concise_eoe_claude-3-opus-20240229.lp\n",
    "\n",
    "file content:\n",
    "\n",
    "```\n",
    "\\ Model Bin Packing\n",
    "\\ LP format - for model browsing. Use MPS format to capture full model detail.\n",
    "\\ Model Bin Packing\n",
    "\\ LP format - for model browsing. Use MPS format to capture full model detail.\n",
    "Minimize\n",
    "  y_0 + y_1 + y_2\n",
    "Subject To\n",
    " item_0_assignment: x_0_0 + x_0_1 + x_0_2 = 1\n",
    " item_1_assignment: x_1_0 + x_1_1 + x_1_2 = 1\n",
    " item_2_assignment: x_2_0 + x_2_1 + x_2_2 = 1\n",
    " item_3_assignment: x_3_0 + x_3_1 + x_3_2 = 1\n",
    " item_4_assignment: x_4_0 + x_4_1 + x_4_2 = 1\n",
    " bin_0_capacity: 8.6600389009 x_0_0 + 9.0341843686 x_1_0\n",
    "   + 1.7299075019 x_2_0 + 0.1213382457 x_3_0 + 3.9651754001 x_4_0\n",
    "   - 4.8654483379 y_0 <= 0\n",
    " bin_1_capacity: 8.6600389009 x_0_1 + 9.0341843686 x_1_1\n",
    "   + 1.7299075019 x_2_1 + 0.1213382457 x_3_1 + 3.9651754001 x_4_1\n",
    "   - 4.8654483379 y_1 <= 0\n",
    " bin_2_capacity: 8.6600389009 x_0_2 + 9.0341843686 x_1_2\n",
    "   + 1.7299075019 x_2_2 + 0.1213382457 x_3_2 + 3.9651754001 x_4_2\n",
    "   - 4.8654483379 y_2 <= 0\n",
    "Bounds\n",
    "Binaries\n",
    " x_0_0 x_0_1 x_0_2 x_1_0 x_1_1 x_1_2 x_2_0 x_2_1 x_2_2 x_3_0 x_3_1 x_3_2\n",
    " x_4_0 x_4_1 x_4_2 y_0 y_1 y_2\n",
    "End\n",
    "\n",
    "```\n"
   ]
  },
  {
   "cell_type": "markdown",
   "metadata": {},
   "source": [
    "Notice that the models in two .lp files should be the same"
   ]
  },
  {
   "cell_type": "code",
   "execution_count": 16,
   "metadata": {},
   "outputs": [],
   "source": [
    "name2 = 'answer_concise_eoe_claude-3-opus-20240229.lp'\n",
    "path2 = o_path+name2\n",
    "\n",
    "info2 = graph_generator(path2)\n",
    "A2 = info2[0] \n",
    "f2 = info2[1]#variable\n",
    "c2 = info2[2]#constraint\n",
    "Adj2 = derive_adjacency(A2)\n",
    "\n"
   ]
  },
  {
   "cell_type": "code",
   "execution_count": 17,
   "metadata": {},
   "outputs": [],
   "source": [
    "from _utils import wltest_coloring_two,check_symmetric_decomposable\n",
    "from _equivalence_detection_utils import check_color_equivalence,check_answer_name,get_valid_path_list\n",
    "\n",
    "color1,color_cons1,color_var1,color2,color_cons2,color_var2  = wltest_coloring_two(c1,f1,A1,c2,f2,A2)"
   ]
  },
  {
   "cell_type": "code",
   "execution_count": 18,
   "metadata": {},
   "outputs": [
    {
     "name": "stdout",
     "output_type": "stream",
     "text": [
      "check symmetric decomposability for tested graph:\n",
      "check color equivalence: True\n",
      "Symmetric Decomposable Equivalence\n"
     ]
    }
   ],
   "source": [
    "\n",
    "problem_name = 'Bin Packing Problem'\n",
    "problem_type = 'MILP'\n",
    "problem_dom = 'Bin Packing Problem_[Warehouse Storage Optimization]'\n",
    "answer_type = check_answer_name(problem_name,problem_dom,problem_type)\n",
    "if check_color_equivalence(color_cons1, color_cons2) and check_color_equivalence(color_var1, color_var2):\n",
    "    if answer_type == 'WL-determinable':\n",
    "        print('WL-determinable Equivalence')\n",
    "    elif answer_type == 'Symmetric Decomposable':\n",
    "        Adj2= derive_adjacency(A2)\n",
    "        test_state = check_symmetric_decomposable(color2,Adj2)[0]\n",
    "        print('check symmetric decomposability for tested graph:',)\n",
    "        print('check color equivalence:', test_state)\n",
    "        if test_state:\n",
    "            print('Symmetric Decomposable Equivalence')\n",
    "        else:\n",
    "            print('Not determinable due to test graph indecomposable')\n",
    "elif not check_color_equivalence(color1, color2):\n",
    "    print('Not the same color')"
   ]
  },
  {
   "cell_type": "code",
   "execution_count": null,
   "metadata": {},
   "outputs": [],
   "source": []
  }
 ],
 "metadata": {
  "kernelspec": {
   "display_name": "myenv",
   "language": "python",
   "name": "python3"
  },
  "language_info": {
   "codemirror_mode": {
    "name": "ipython",
    "version": 3
   },
   "file_extension": ".py",
   "mimetype": "text/x-python",
   "name": "python",
   "nbconvert_exporter": "python",
   "pygments_lexer": "ipython3",
   "version": "3.8.0"
  }
 },
 "nbformat": 4,
 "nbformat_minor": 2
}
